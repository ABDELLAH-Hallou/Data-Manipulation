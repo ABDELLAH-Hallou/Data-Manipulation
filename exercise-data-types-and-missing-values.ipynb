{
 "cells": [
  {
   "cell_type": "markdown",
   "id": "197c881c",
   "metadata": {
    "papermill": {
     "duration": 0.016008,
     "end_time": "2022-05-01T16:03:41.808882",
     "exception": false,
     "start_time": "2022-05-01T16:03:41.792874",
     "status": "completed"
    },
    "tags": []
   },
   "source": [
    "**This notebook is an exercise in the [Pandas](https://www.kaggle.com/learn/pandas) course.  You can reference the tutorial at [this link](https://www.kaggle.com/residentmario/data-types-and-missing-values).**\n",
    "\n",
    "---\n"
   ]
  },
  {
   "cell_type": "markdown",
   "id": "d011168a",
   "metadata": {
    "papermill": {
     "duration": 0.014337,
     "end_time": "2022-05-01T16:03:41.838121",
     "exception": false,
     "start_time": "2022-05-01T16:03:41.823784",
     "status": "completed"
    },
    "tags": []
   },
   "source": [
    "# Introduction\n",
    "\n",
    "Run the following cell to load your data and some utility functions."
   ]
  },
  {
   "cell_type": "code",
   "execution_count": 1,
   "id": "186fd61f",
   "metadata": {
    "execution": {
     "iopub.execute_input": "2022-05-01T16:03:41.869332Z",
     "iopub.status.busy": "2022-05-01T16:03:41.869013Z",
     "iopub.status.idle": "2022-05-01T16:03:44.767869Z",
     "shell.execute_reply": "2022-05-01T16:03:44.766636Z"
    },
    "papermill": {
     "duration": 2.917794,
     "end_time": "2022-05-01T16:03:44.770598",
     "exception": false,
     "start_time": "2022-05-01T16:03:41.852804",
     "status": "completed"
    },
    "tags": []
   },
   "outputs": [
    {
     "name": "stdout",
     "output_type": "stream",
     "text": [
      "Setup complete.\n"
     ]
    }
   ],
   "source": [
    "import pandas as pd\n",
    "\n",
    "reviews = pd.read_csv(\"../input/wine-reviews/winemag-data-130k-v2.csv\", index_col=0)\n",
    "\n",
    "from learntools.core import binder; binder.bind(globals())\n",
    "from learntools.pandas.data_types_and_missing_data import *\n",
    "print(\"Setup complete.\")"
   ]
  },
  {
   "cell_type": "markdown",
   "id": "c41fb553",
   "metadata": {
    "papermill": {
     "duration": 0.014926,
     "end_time": "2022-05-01T16:03:44.801169",
     "exception": false,
     "start_time": "2022-05-01T16:03:44.786243",
     "status": "completed"
    },
    "tags": []
   },
   "source": [
    "# Exercises"
   ]
  },
  {
   "cell_type": "markdown",
   "id": "14864fd7",
   "metadata": {
    "papermill": {
     "duration": 0.0148,
     "end_time": "2022-05-01T16:03:44.831157",
     "exception": false,
     "start_time": "2022-05-01T16:03:44.816357",
     "status": "completed"
    },
    "tags": []
   },
   "source": [
    "## 1. \n",
    "What is the data type of the `points` column in the dataset?"
   ]
  },
  {
   "cell_type": "code",
   "execution_count": 2,
   "id": "fcb5bee5",
   "metadata": {
    "execution": {
     "iopub.execute_input": "2022-05-01T16:03:44.863027Z",
     "iopub.status.busy": "2022-05-01T16:03:44.862737Z",
     "iopub.status.idle": "2022-05-01T16:03:44.875135Z",
     "shell.execute_reply": "2022-05-01T16:03:44.874181Z"
    },
    "papermill": {
     "duration": 0.031092,
     "end_time": "2022-05-01T16:03:44.877385",
     "exception": false,
     "start_time": "2022-05-01T16:03:44.846293",
     "status": "completed"
    },
    "tags": []
   },
   "outputs": [
    {
     "data": {
      "application/javascript": [
       "parent.postMessage({\"jupyterEvent\": \"custom.exercise_interaction\", \"data\": {\"outcomeType\": 1, \"valueTowardsCompletion\": 0.25, \"interactionType\": 1, \"questionType\": 1, \"questionId\": \"1_PointsDtype\", \"learnToolsVersion\": \"0.3.4\", \"failureMessage\": \"\", \"exceptionClass\": \"\", \"trace\": \"\"}}, \"*\")"
      ],
      "text/plain": [
       "<IPython.core.display.Javascript object>"
      ]
     },
     "metadata": {},
     "output_type": "display_data"
    },
    {
     "data": {
      "text/markdown": [
       "<span style=\"color:#33cc33\">Correct</span>"
      ],
      "text/plain": [
       "Correct"
      ]
     },
     "metadata": {},
     "output_type": "display_data"
    },
    {
     "data": {
      "text/plain": [
       "dtype('int64')"
      ]
     },
     "execution_count": 2,
     "metadata": {},
     "output_type": "execute_result"
    }
   ],
   "source": [
    "# Your code here\n",
    "dtype = reviews.points.dtype\n",
    "\n",
    "# Check your answer\n",
    "q1.check()\n",
    "dtype"
   ]
  },
  {
   "cell_type": "code",
   "execution_count": 3,
   "id": "7c7c5604",
   "metadata": {
    "execution": {
     "iopub.execute_input": "2022-05-01T16:03:44.915637Z",
     "iopub.status.busy": "2022-05-01T16:03:44.914724Z",
     "iopub.status.idle": "2022-05-01T16:03:44.918981Z",
     "shell.execute_reply": "2022-05-01T16:03:44.917891Z"
    },
    "papermill": {
     "duration": 0.025493,
     "end_time": "2022-05-01T16:03:44.921060",
     "exception": false,
     "start_time": "2022-05-01T16:03:44.895567",
     "status": "completed"
    },
    "tags": []
   },
   "outputs": [],
   "source": [
    "#q1.hint()\n",
    "#q1.solution()"
   ]
  },
  {
   "cell_type": "markdown",
   "id": "8bfd8955",
   "metadata": {
    "papermill": {
     "duration": 0.016529,
     "end_time": "2022-05-01T16:03:44.954430",
     "exception": false,
     "start_time": "2022-05-01T16:03:44.937901",
     "status": "completed"
    },
    "tags": []
   },
   "source": [
    "## 2. \n",
    "Create a Series from entries in the `points` column, but convert the entries to strings. Hint: strings are `str` in native Python."
   ]
  },
  {
   "cell_type": "code",
   "execution_count": 4,
   "id": "60fea0d6",
   "metadata": {
    "execution": {
     "iopub.execute_input": "2022-05-01T16:03:44.990877Z",
     "iopub.status.busy": "2022-05-01T16:03:44.990556Z",
     "iopub.status.idle": "2022-05-01T16:03:45.136701Z",
     "shell.execute_reply": "2022-05-01T16:03:45.136096Z"
    },
    "papermill": {
     "duration": 0.16716,
     "end_time": "2022-05-01T16:03:45.138636",
     "exception": false,
     "start_time": "2022-05-01T16:03:44.971476",
     "status": "completed"
    },
    "tags": []
   },
   "outputs": [
    {
     "data": {
      "application/javascript": [
       "parent.postMessage({\"jupyterEvent\": \"custom.exercise_interaction\", \"data\": {\"outcomeType\": 1, \"valueTowardsCompletion\": 0.25, \"interactionType\": 1, \"questionType\": 1, \"questionId\": \"2_StrPoints\", \"learnToolsVersion\": \"0.3.4\", \"failureMessage\": \"\", \"exceptionClass\": \"\", \"trace\": \"\"}}, \"*\")"
      ],
      "text/plain": [
       "<IPython.core.display.Javascript object>"
      ]
     },
     "metadata": {},
     "output_type": "display_data"
    },
    {
     "data": {
      "text/markdown": [
       "<span style=\"color:#33cc33\">Correct</span>"
      ],
      "text/plain": [
       "Correct"
      ]
     },
     "metadata": {},
     "output_type": "display_data"
    },
    {
     "data": {
      "text/plain": [
       "0         87\n",
       "1         87\n",
       "2         87\n",
       "3         87\n",
       "4         87\n",
       "          ..\n",
       "129966    90\n",
       "129967    90\n",
       "129968    90\n",
       "129969    90\n",
       "129970    90\n",
       "Name: points, Length: 129971, dtype: object"
      ]
     },
     "execution_count": 4,
     "metadata": {},
     "output_type": "execute_result"
    }
   ],
   "source": [
    "point_strings = reviews.points.astype('str')\n",
    "\n",
    "# Check your answer\n",
    "q2.check()\n",
    "point_strings"
   ]
  },
  {
   "cell_type": "code",
   "execution_count": 5,
   "id": "b3510450",
   "metadata": {
    "execution": {
     "iopub.execute_input": "2022-05-01T16:03:45.178482Z",
     "iopub.status.busy": "2022-05-01T16:03:45.177747Z",
     "iopub.status.idle": "2022-05-01T16:03:45.181032Z",
     "shell.execute_reply": "2022-05-01T16:03:45.180441Z"
    },
    "papermill": {
     "duration": 0.024996,
     "end_time": "2022-05-01T16:03:45.182868",
     "exception": false,
     "start_time": "2022-05-01T16:03:45.157872",
     "status": "completed"
    },
    "tags": []
   },
   "outputs": [],
   "source": [
    "#q2.hint()\n",
    "#q2.solution()"
   ]
  },
  {
   "cell_type": "markdown",
   "id": "d61f82f8",
   "metadata": {
    "papermill": {
     "duration": 0.01784,
     "end_time": "2022-05-01T16:03:45.219007",
     "exception": false,
     "start_time": "2022-05-01T16:03:45.201167",
     "status": "completed"
    },
    "tags": []
   },
   "source": [
    "## 3.\n",
    "Sometimes the price column is null. How many reviews in the dataset are missing a price?"
   ]
  },
  {
   "cell_type": "code",
   "execution_count": 6,
   "id": "ef528cc4",
   "metadata": {
    "execution": {
     "iopub.execute_input": "2022-05-01T16:03:45.257624Z",
     "iopub.status.busy": "2022-05-01T16:03:45.257153Z",
     "iopub.status.idle": "2022-05-01T16:03:45.266370Z",
     "shell.execute_reply": "2022-05-01T16:03:45.265589Z"
    },
    "papermill": {
     "duration": 0.031276,
     "end_time": "2022-05-01T16:03:45.268584",
     "exception": false,
     "start_time": "2022-05-01T16:03:45.237308",
     "status": "completed"
    },
    "tags": []
   },
   "outputs": [
    {
     "data": {
      "application/javascript": [
       "parent.postMessage({\"jupyterEvent\": \"custom.exercise_interaction\", \"data\": {\"outcomeType\": 1, \"valueTowardsCompletion\": 0.25, \"interactionType\": 1, \"questionType\": 1, \"questionId\": \"3_CountMissingPrices\", \"learnToolsVersion\": \"0.3.4\", \"failureMessage\": \"\", \"exceptionClass\": \"\", \"trace\": \"\"}}, \"*\")"
      ],
      "text/plain": [
       "<IPython.core.display.Javascript object>"
      ]
     },
     "metadata": {},
     "output_type": "display_data"
    },
    {
     "data": {
      "text/markdown": [
       "<span style=\"color:#33cc33\">Correct</span>"
      ],
      "text/plain": [
       "Correct"
      ]
     },
     "metadata": {},
     "output_type": "display_data"
    },
    {
     "data": {
      "text/plain": [
       "8996"
      ]
     },
     "execution_count": 6,
     "metadata": {},
     "output_type": "execute_result"
    }
   ],
   "source": [
    "n_missing_prices = reviews.price.isnull().sum()\n",
    "\n",
    "# Check your answer\n",
    "q3.check()\n",
    "n_missing_prices"
   ]
  },
  {
   "cell_type": "code",
   "execution_count": 7,
   "id": "0850242c",
   "metadata": {
    "execution": {
     "iopub.execute_input": "2022-05-01T16:03:45.310497Z",
     "iopub.status.busy": "2022-05-01T16:03:45.309999Z",
     "iopub.status.idle": "2022-05-01T16:03:45.313094Z",
     "shell.execute_reply": "2022-05-01T16:03:45.312446Z"
    },
    "papermill": {
     "duration": 0.026403,
     "end_time": "2022-05-01T16:03:45.315079",
     "exception": false,
     "start_time": "2022-05-01T16:03:45.288676",
     "status": "completed"
    },
    "tags": []
   },
   "outputs": [],
   "source": [
    "#q3.hint()\n",
    "#q3.solution()"
   ]
  },
  {
   "cell_type": "markdown",
   "id": "dd78a2c8",
   "metadata": {
    "papermill": {
     "duration": 0.022686,
     "end_time": "2022-05-01T16:03:45.358775",
     "exception": false,
     "start_time": "2022-05-01T16:03:45.336089",
     "status": "completed"
    },
    "tags": []
   },
   "source": [
    "## 4.\n",
    "What are the most common wine-producing regions? Create a Series counting the number of times each value occurs in the `region_1` field. This field is often missing data, so replace missing values with `Unknown`. Sort in descending order.  Your output should look something like this:\n",
    "\n",
    "```\n",
    "Unknown                    21247\n",
    "Napa Valley                 4480\n",
    "                           ...  \n",
    "Bardolino Superiore            1\n",
    "Primitivo del Tarantino        1\n",
    "Name: region_1, Length: 1230, dtype: int64\n",
    "```"
   ]
  },
  {
   "cell_type": "code",
   "execution_count": 8,
   "id": "953e0119",
   "metadata": {
    "execution": {
     "iopub.execute_input": "2022-05-01T16:03:45.400924Z",
     "iopub.status.busy": "2022-05-01T16:03:45.400413Z",
     "iopub.status.idle": "2022-05-01T16:03:45.476552Z",
     "shell.execute_reply": "2022-05-01T16:03:45.475593Z"
    },
    "papermill": {
     "duration": 0.101456,
     "end_time": "2022-05-01T16:03:45.480213",
     "exception": false,
     "start_time": "2022-05-01T16:03:45.378757",
     "status": "completed"
    },
    "tags": []
   },
   "outputs": [
    {
     "data": {
      "application/javascript": [
       "parent.postMessage({\"jupyterEvent\": \"custom.exercise_interaction\", \"data\": {\"outcomeType\": 1, \"valueTowardsCompletion\": 0.25, \"interactionType\": 1, \"questionType\": 2, \"questionId\": \"4_ReviewsPerRegion\", \"learnToolsVersion\": \"0.3.4\", \"failureMessage\": \"\", \"exceptionClass\": \"\", \"trace\": \"\"}}, \"*\")"
      ],
      "text/plain": [
       "<IPython.core.display.Javascript object>"
      ]
     },
     "metadata": {},
     "output_type": "display_data"
    },
    {
     "data": {
      "text/markdown": [
       "<span style=\"color:#33cc33\">Correct</span>"
      ],
      "text/plain": [
       "Correct"
      ]
     },
     "metadata": {},
     "output_type": "display_data"
    }
   ],
   "source": [
    "reviews_per_region = reviews.region_1.fillna('Unknown').value_counts().sort_values(ascending=False)\n",
    "\n",
    "# Check your answer\n",
    "q4.check()"
   ]
  },
  {
   "cell_type": "code",
   "execution_count": 9,
   "id": "b58d9020",
   "metadata": {
    "execution": {
     "iopub.execute_input": "2022-05-01T16:03:45.525376Z",
     "iopub.status.busy": "2022-05-01T16:03:45.524941Z",
     "iopub.status.idle": "2022-05-01T16:03:45.528228Z",
     "shell.execute_reply": "2022-05-01T16:03:45.527646Z"
    },
    "papermill": {
     "duration": 0.028549,
     "end_time": "2022-05-01T16:03:45.530270",
     "exception": false,
     "start_time": "2022-05-01T16:03:45.501721",
     "status": "completed"
    },
    "tags": []
   },
   "outputs": [],
   "source": [
    "#q4.hint()\n",
    "#q4.solution()"
   ]
  },
  {
   "cell_type": "markdown",
   "id": "51847498",
   "metadata": {
    "papermill": {
     "duration": 0.020742,
     "end_time": "2022-05-01T16:03:45.572954",
     "exception": false,
     "start_time": "2022-05-01T16:03:45.552212",
     "status": "completed"
    },
    "tags": []
   },
   "source": [
    "# Keep going\n",
    "\n",
    "Move on to **[renaming and combining](https://www.kaggle.com/residentmario/renaming-and-combining)**."
   ]
  }
 ],
 "metadata": {
  "kernelspec": {
   "display_name": "Python 3",
   "language": "python",
   "name": "python3"
  },
  "language_info": {
   "codemirror_mode": {
    "name": "ipython",
    "version": 3
   },
   "file_extension": ".py",
   "mimetype": "text/x-python",
   "name": "python",
   "nbconvert_exporter": "python",
   "pygments_lexer": "ipython3",
   "version": "3.7.12"
  },
  "papermill": {
   "default_parameters": {},
   "duration": 15.010659,
   "end_time": "2022-05-01T16:03:46.416769",
   "environment_variables": {},
   "exception": null,
   "input_path": "__notebook__.ipynb",
   "output_path": "__notebook__.ipynb",
   "parameters": {},
   "start_time": "2022-05-01T16:03:31.406110",
   "version": "2.3.4"
  }
 },
 "nbformat": 4,
 "nbformat_minor": 5
}
