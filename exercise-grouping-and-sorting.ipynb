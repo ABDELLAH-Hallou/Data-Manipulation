{
 "cells": [
  {
   "cell_type": "markdown",
   "id": "c5fb458e",
   "metadata": {
    "papermill": {
     "duration": 0.022739,
     "end_time": "2022-05-01T15:59:16.014736",
     "exception": false,
     "start_time": "2022-05-01T15:59:15.991997",
     "status": "completed"
    },
    "tags": []
   },
   "source": [
    "**This notebook is an exercise in the [Pandas](https://www.kaggle.com/learn/pandas) course.  You can reference the tutorial at [this link](https://www.kaggle.com/residentmario/grouping-and-sorting).**\n",
    "\n",
    "---\n"
   ]
  },
  {
   "cell_type": "markdown",
   "id": "cb3f765c",
   "metadata": {
    "papermill": {
     "duration": 0.022476,
     "end_time": "2022-05-01T15:59:16.058978",
     "exception": false,
     "start_time": "2022-05-01T15:59:16.036502",
     "status": "completed"
    },
    "tags": []
   },
   "source": [
    "# Introduction\n",
    "\n",
    "In these exercises we'll apply groupwise analysis to our dataset.\n",
    "\n",
    "Run the code cell below to load the data before running the exercises."
   ]
  },
  {
   "cell_type": "code",
   "execution_count": 1,
   "id": "74a25e60",
   "metadata": {
    "execution": {
     "iopub.execute_input": "2022-05-01T15:59:16.105062Z",
     "iopub.status.busy": "2022-05-01T15:59:16.104461Z",
     "iopub.status.idle": "2022-05-01T15:59:19.087922Z",
     "shell.execute_reply": "2022-05-01T15:59:19.087173Z"
    },
    "papermill": {
     "duration": 3.009161,
     "end_time": "2022-05-01T15:59:19.090288",
     "exception": false,
     "start_time": "2022-05-01T15:59:16.081127",
     "status": "completed"
    },
    "tags": []
   },
   "outputs": [
    {
     "name": "stdout",
     "output_type": "stream",
     "text": [
      "Setup complete.\n"
     ]
    }
   ],
   "source": [
    "import pandas as pd\n",
    "\n",
    "reviews = pd.read_csv(\"../input/wine-reviews/winemag-data-130k-v2.csv\", index_col=0)\n",
    "#pd.set_option(\"display.max_rows\", 5)\n",
    "\n",
    "from learntools.core import binder; binder.bind(globals())\n",
    "from learntools.pandas.grouping_and_sorting import *\n",
    "print(\"Setup complete.\")"
   ]
  },
  {
   "cell_type": "markdown",
   "id": "c14952a8",
   "metadata": {
    "papermill": {
     "duration": 0.021699,
     "end_time": "2022-05-01T15:59:19.136707",
     "exception": false,
     "start_time": "2022-05-01T15:59:19.115008",
     "status": "completed"
    },
    "tags": []
   },
   "source": [
    "# Exercises"
   ]
  },
  {
   "cell_type": "markdown",
   "id": "9c0e513c",
   "metadata": {
    "papermill": {
     "duration": 0.02152,
     "end_time": "2022-05-01T15:59:19.180014",
     "exception": false,
     "start_time": "2022-05-01T15:59:19.158494",
     "status": "completed"
    },
    "tags": []
   },
   "source": [
    "taster_twitter_handle## 1.\n",
    "Who are the most common wine reviewers in the dataset? Create a `Series` whose index is the `taster_twitter_handle` category from the dataset, and whose values count how many reviews each person wrote."
   ]
  },
  {
   "cell_type": "code",
   "execution_count": 2,
   "id": "df315765",
   "metadata": {
    "execution": {
     "iopub.execute_input": "2022-05-01T15:59:19.225969Z",
     "iopub.status.busy": "2022-05-01T15:59:19.225461Z",
     "iopub.status.idle": "2022-05-01T15:59:19.266176Z",
     "shell.execute_reply": "2022-05-01T15:59:19.265308Z"
    },
    "papermill": {
     "duration": 0.066562,
     "end_time": "2022-05-01T15:59:19.268395",
     "exception": false,
     "start_time": "2022-05-01T15:59:19.201833",
     "status": "completed"
    },
    "tags": []
   },
   "outputs": [
    {
     "data": {
      "application/javascript": [
       "parent.postMessage({\"jupyterEvent\": \"custom.exercise_interaction\", \"data\": {\"outcomeType\": 1, \"valueTowardsCompletion\": 0.16666666666666666, \"interactionType\": 1, \"questionType\": 1, \"questionId\": \"1_ReviewsWritten\", \"learnToolsVersion\": \"0.3.4\", \"failureMessage\": \"\", \"exceptionClass\": \"\", \"trace\": \"\"}}, \"*\")"
      ],
      "text/plain": [
       "<IPython.core.display.Javascript object>"
      ]
     },
     "metadata": {},
     "output_type": "display_data"
    },
    {
     "data": {
      "text/markdown": [
       "<span style=\"color:#33cc33\">Correct:</span> \n",
       "\n",
       "\n",
       "```python\n",
       "reviews_written = reviews.groupby('taster_twitter_handle').size()\n",
       "```\n",
       "or\n",
       "```python\n",
       "reviews_written = reviews.groupby('taster_twitter_handle').taster_twitter_handle.count()\n",
       "```\n"
      ],
      "text/plain": [
       "Correct: \n",
       "\n",
       "\n",
       "```python\n",
       "reviews_written = reviews.groupby('taster_twitter_handle').size()\n",
       "```\n",
       "or\n",
       "```python\n",
       "reviews_written = reviews.groupby('taster_twitter_handle').taster_twitter_handle.count()\n",
       "```"
      ]
     },
     "metadata": {},
     "output_type": "display_data"
    }
   ],
   "source": [
    "# Your code here\n",
    "reviews_written = reviews.groupby('taster_twitter_handle').taster_twitter_handle.count()\n",
    "\n",
    "# Check your answer\n",
    "q1.check()"
   ]
  },
  {
   "cell_type": "code",
   "execution_count": 3,
   "id": "ef8651f1",
   "metadata": {
    "execution": {
     "iopub.execute_input": "2022-05-01T15:59:19.316558Z",
     "iopub.status.busy": "2022-05-01T15:59:19.316195Z",
     "iopub.status.idle": "2022-05-01T15:59:19.319709Z",
     "shell.execute_reply": "2022-05-01T15:59:19.319026Z"
    },
    "papermill": {
     "duration": 0.02997,
     "end_time": "2022-05-01T15:59:19.321617",
     "exception": false,
     "start_time": "2022-05-01T15:59:19.291647",
     "status": "completed"
    },
    "tags": []
   },
   "outputs": [],
   "source": [
    "#q1.hint()\n",
    "#q1.solution()"
   ]
  },
  {
   "cell_type": "markdown",
   "id": "eda590fe",
   "metadata": {
    "papermill": {
     "duration": 0.022595,
     "end_time": "2022-05-01T15:59:19.367452",
     "exception": false,
     "start_time": "2022-05-01T15:59:19.344857",
     "status": "completed"
    },
    "tags": []
   },
   "source": [
    "## 2.\n",
    "What is the best wine I can buy for a given amount of money? Create a `Series` whose index is wine prices and whose values is the maximum number of points a wine costing that much was given in a review. Sort the values by price, ascending (so that `4.0` dollars is at the top and `3300.0` dollars is at the bottom)."
   ]
  },
  {
   "cell_type": "code",
   "execution_count": 4,
   "id": "87f03f89",
   "metadata": {
    "execution": {
     "iopub.execute_input": "2022-05-01T15:59:19.418892Z",
     "iopub.status.busy": "2022-05-01T15:59:19.418115Z",
     "iopub.status.idle": "2022-05-01T15:59:19.436261Z",
     "shell.execute_reply": "2022-05-01T15:59:19.435453Z"
    },
    "papermill": {
     "duration": 0.047751,
     "end_time": "2022-05-01T15:59:19.438479",
     "exception": false,
     "start_time": "2022-05-01T15:59:19.390728",
     "status": "completed"
    },
    "tags": []
   },
   "outputs": [
    {
     "data": {
      "application/javascript": [
       "parent.postMessage({\"jupyterEvent\": \"custom.exercise_interaction\", \"data\": {\"outcomeType\": 1, \"valueTowardsCompletion\": 0.16666666666666666, \"interactionType\": 1, \"questionType\": 1, \"questionId\": \"2_BestRatingPerPrice\", \"learnToolsVersion\": \"0.3.4\", \"failureMessage\": \"\", \"exceptionClass\": \"\", \"trace\": \"\"}}, \"*\")"
      ],
      "text/plain": [
       "<IPython.core.display.Javascript object>"
      ]
     },
     "metadata": {},
     "output_type": "display_data"
    },
    {
     "data": {
      "text/markdown": [
       "<span style=\"color:#33cc33\">Correct</span>"
      ],
      "text/plain": [
       "Correct"
      ]
     },
     "metadata": {},
     "output_type": "display_data"
    },
    {
     "data": {
      "text/plain": [
       "price\n",
       "4.0       86\n",
       "5.0       87\n",
       "6.0       88\n",
       "7.0       91\n",
       "8.0       91\n",
       "          ..\n",
       "1900.0    98\n",
       "2000.0    97\n",
       "2013.0    91\n",
       "2500.0    96\n",
       "3300.0    88\n",
       "Name: points, Length: 390, dtype: int64"
      ]
     },
     "execution_count": 4,
     "metadata": {},
     "output_type": "execute_result"
    }
   ],
   "source": [
    "price = reviews.groupby('price').points.max()\n",
    "best_rating_per_price = price.sort_index()\n",
    "\n",
    "# Check your answer\n",
    "q2.check()\n",
    "best_rating_per_price"
   ]
  },
  {
   "cell_type": "code",
   "execution_count": 5,
   "id": "bfe04a8d",
   "metadata": {
    "execution": {
     "iopub.execute_input": "2022-05-01T15:59:19.489697Z",
     "iopub.status.busy": "2022-05-01T15:59:19.489412Z",
     "iopub.status.idle": "2022-05-01T15:59:19.493320Z",
     "shell.execute_reply": "2022-05-01T15:59:19.492290Z"
    },
    "papermill": {
     "duration": 0.032022,
     "end_time": "2022-05-01T15:59:19.495378",
     "exception": false,
     "start_time": "2022-05-01T15:59:19.463356",
     "status": "completed"
    },
    "tags": []
   },
   "outputs": [],
   "source": [
    "#q2.hint()\n",
    "#q2.solution()"
   ]
  },
  {
   "cell_type": "markdown",
   "id": "5cbb75ad",
   "metadata": {
    "papermill": {
     "duration": 0.024332,
     "end_time": "2022-05-01T15:59:19.545499",
     "exception": false,
     "start_time": "2022-05-01T15:59:19.521167",
     "status": "completed"
    },
    "tags": []
   },
   "source": [
    "## 3.\n",
    "What are the minimum and maximum prices for each `variety` of wine? Create a `DataFrame` whose index is the `variety` category from the dataset and whose values are the `min` and `max` values thereof."
   ]
  },
  {
   "cell_type": "code",
   "execution_count": 6,
   "id": "2f885de0",
   "metadata": {
    "execution": {
     "iopub.execute_input": "2022-05-01T15:59:19.596742Z",
     "iopub.status.busy": "2022-05-01T15:59:19.596424Z",
     "iopub.status.idle": "2022-05-01T15:59:19.640031Z",
     "shell.execute_reply": "2022-05-01T15:59:19.639017Z"
    },
    "papermill": {
     "duration": 0.071923,
     "end_time": "2022-05-01T15:59:19.642213",
     "exception": false,
     "start_time": "2022-05-01T15:59:19.570290",
     "status": "completed"
    },
    "tags": []
   },
   "outputs": [
    {
     "data": {
      "application/javascript": [
       "parent.postMessage({\"jupyterEvent\": \"custom.exercise_interaction\", \"data\": {\"outcomeType\": 1, \"valueTowardsCompletion\": 0.16666666666666666, \"interactionType\": 1, \"questionType\": 1, \"questionId\": \"3_PriceExtremes\", \"learnToolsVersion\": \"0.3.4\", \"failureMessage\": \"\", \"exceptionClass\": \"\", \"trace\": \"\"}}, \"*\")"
      ],
      "text/plain": [
       "<IPython.core.display.Javascript object>"
      ]
     },
     "metadata": {},
     "output_type": "display_data"
    },
    {
     "data": {
      "text/markdown": [
       "<span style=\"color:#33cc33\">Correct</span>"
      ],
      "text/plain": [
       "Correct"
      ]
     },
     "metadata": {},
     "output_type": "display_data"
    },
    {
     "data": {
      "text/html": [
       "<div>\n",
       "<style scoped>\n",
       "    .dataframe tbody tr th:only-of-type {\n",
       "        vertical-align: middle;\n",
       "    }\n",
       "\n",
       "    .dataframe tbody tr th {\n",
       "        vertical-align: top;\n",
       "    }\n",
       "\n",
       "    .dataframe thead th {\n",
       "        text-align: right;\n",
       "    }\n",
       "</style>\n",
       "<table border=\"1\" class=\"dataframe\">\n",
       "  <thead>\n",
       "    <tr style=\"text-align: right;\">\n",
       "      <th></th>\n",
       "      <th>min</th>\n",
       "      <th>max</th>\n",
       "    </tr>\n",
       "    <tr>\n",
       "      <th>variety</th>\n",
       "      <th></th>\n",
       "      <th></th>\n",
       "    </tr>\n",
       "  </thead>\n",
       "  <tbody>\n",
       "    <tr>\n",
       "      <th>Abouriou</th>\n",
       "      <td>15.0</td>\n",
       "      <td>75.0</td>\n",
       "    </tr>\n",
       "    <tr>\n",
       "      <th>Agiorgitiko</th>\n",
       "      <td>10.0</td>\n",
       "      <td>66.0</td>\n",
       "    </tr>\n",
       "    <tr>\n",
       "      <th>Aglianico</th>\n",
       "      <td>6.0</td>\n",
       "      <td>180.0</td>\n",
       "    </tr>\n",
       "    <tr>\n",
       "      <th>Aidani</th>\n",
       "      <td>27.0</td>\n",
       "      <td>27.0</td>\n",
       "    </tr>\n",
       "    <tr>\n",
       "      <th>Airen</th>\n",
       "      <td>8.0</td>\n",
       "      <td>10.0</td>\n",
       "    </tr>\n",
       "    <tr>\n",
       "      <th>...</th>\n",
       "      <td>...</td>\n",
       "      <td>...</td>\n",
       "    </tr>\n",
       "    <tr>\n",
       "      <th>Zinfandel</th>\n",
       "      <td>5.0</td>\n",
       "      <td>100.0</td>\n",
       "    </tr>\n",
       "    <tr>\n",
       "      <th>Zlahtina</th>\n",
       "      <td>13.0</td>\n",
       "      <td>16.0</td>\n",
       "    </tr>\n",
       "    <tr>\n",
       "      <th>Zweigelt</th>\n",
       "      <td>9.0</td>\n",
       "      <td>70.0</td>\n",
       "    </tr>\n",
       "    <tr>\n",
       "      <th>Çalkarası</th>\n",
       "      <td>19.0</td>\n",
       "      <td>19.0</td>\n",
       "    </tr>\n",
       "    <tr>\n",
       "      <th>Žilavka</th>\n",
       "      <td>15.0</td>\n",
       "      <td>15.0</td>\n",
       "    </tr>\n",
       "  </tbody>\n",
       "</table>\n",
       "<p>707 rows × 2 columns</p>\n",
       "</div>"
      ],
      "text/plain": [
       "              min    max\n",
       "variety                 \n",
       "Abouriou     15.0   75.0\n",
       "Agiorgitiko  10.0   66.0\n",
       "Aglianico     6.0  180.0\n",
       "Aidani       27.0   27.0\n",
       "Airen         8.0   10.0\n",
       "...           ...    ...\n",
       "Zinfandel     5.0  100.0\n",
       "Zlahtina     13.0   16.0\n",
       "Zweigelt      9.0   70.0\n",
       "Çalkarası    19.0   19.0\n",
       "Žilavka      15.0   15.0\n",
       "\n",
       "[707 rows x 2 columns]"
      ]
     },
     "execution_count": 6,
     "metadata": {},
     "output_type": "execute_result"
    }
   ],
   "source": [
    "price_extremes = reviews.groupby('variety').price.agg([min, max])\n",
    "\n",
    "# Check your answer\n",
    "q3.check()\n",
    "price_extremes"
   ]
  },
  {
   "cell_type": "code",
   "execution_count": 7,
   "id": "4e075fac",
   "metadata": {
    "execution": {
     "iopub.execute_input": "2022-05-01T15:59:19.697382Z",
     "iopub.status.busy": "2022-05-01T15:59:19.697076Z",
     "iopub.status.idle": "2022-05-01T15:59:19.701300Z",
     "shell.execute_reply": "2022-05-01T15:59:19.700261Z"
    },
    "papermill": {
     "duration": 0.034356,
     "end_time": "2022-05-01T15:59:19.703388",
     "exception": false,
     "start_time": "2022-05-01T15:59:19.669032",
     "status": "completed"
    },
    "tags": []
   },
   "outputs": [],
   "source": [
    "#q3.hint()\n",
    "#q3.solution()"
   ]
  },
  {
   "cell_type": "markdown",
   "id": "c791faff",
   "metadata": {
    "papermill": {
     "duration": 0.026331,
     "end_time": "2022-05-01T15:59:19.757151",
     "exception": false,
     "start_time": "2022-05-01T15:59:19.730820",
     "status": "completed"
    },
    "tags": []
   },
   "source": [
    "## 4.\n",
    "What are the most expensive wine varieties? Create a variable `sorted_varieties` containing a copy of the dataframe from the previous question where varieties are sorted in descending order based on minimum price, then on maximum price (to break ties)."
   ]
  },
  {
   "cell_type": "code",
   "execution_count": 8,
   "id": "5554a132",
   "metadata": {
    "execution": {
     "iopub.execute_input": "2022-05-01T15:59:19.812344Z",
     "iopub.status.busy": "2022-05-01T15:59:19.812046Z",
     "iopub.status.idle": "2022-05-01T15:59:19.832900Z",
     "shell.execute_reply": "2022-05-01T15:59:19.832213Z"
    },
    "papermill": {
     "duration": 0.051014,
     "end_time": "2022-05-01T15:59:19.834828",
     "exception": false,
     "start_time": "2022-05-01T15:59:19.783814",
     "status": "completed"
    },
    "tags": []
   },
   "outputs": [
    {
     "data": {
      "application/javascript": [
       "parent.postMessage({\"jupyterEvent\": \"custom.exercise_interaction\", \"data\": {\"outcomeType\": 1, \"valueTowardsCompletion\": 0.16666666666666666, \"interactionType\": 1, \"questionType\": 1, \"questionId\": \"4_SortedVarieties\", \"learnToolsVersion\": \"0.3.4\", \"failureMessage\": \"\", \"exceptionClass\": \"\", \"trace\": \"\"}}, \"*\")"
      ],
      "text/plain": [
       "<IPython.core.display.Javascript object>"
      ]
     },
     "metadata": {},
     "output_type": "display_data"
    },
    {
     "data": {
      "text/markdown": [
       "<span style=\"color:#33cc33\">Correct</span>"
      ],
      "text/plain": [
       "Correct"
      ]
     },
     "metadata": {},
     "output_type": "display_data"
    },
    {
     "data": {
      "text/html": [
       "<div>\n",
       "<style scoped>\n",
       "    .dataframe tbody tr th:only-of-type {\n",
       "        vertical-align: middle;\n",
       "    }\n",
       "\n",
       "    .dataframe tbody tr th {\n",
       "        vertical-align: top;\n",
       "    }\n",
       "\n",
       "    .dataframe thead th {\n",
       "        text-align: right;\n",
       "    }\n",
       "</style>\n",
       "<table border=\"1\" class=\"dataframe\">\n",
       "  <thead>\n",
       "    <tr style=\"text-align: right;\">\n",
       "      <th></th>\n",
       "      <th>min</th>\n",
       "      <th>max</th>\n",
       "    </tr>\n",
       "    <tr>\n",
       "      <th>variety</th>\n",
       "      <th></th>\n",
       "      <th></th>\n",
       "    </tr>\n",
       "  </thead>\n",
       "  <tbody>\n",
       "    <tr>\n",
       "      <th>Ramisco</th>\n",
       "      <td>495.0</td>\n",
       "      <td>495.0</td>\n",
       "    </tr>\n",
       "    <tr>\n",
       "      <th>Terrantez</th>\n",
       "      <td>236.0</td>\n",
       "      <td>236.0</td>\n",
       "    </tr>\n",
       "    <tr>\n",
       "      <th>Francisa</th>\n",
       "      <td>160.0</td>\n",
       "      <td>160.0</td>\n",
       "    </tr>\n",
       "    <tr>\n",
       "      <th>Rosenmuskateller</th>\n",
       "      <td>150.0</td>\n",
       "      <td>150.0</td>\n",
       "    </tr>\n",
       "    <tr>\n",
       "      <th>Tinta Negra Mole</th>\n",
       "      <td>112.0</td>\n",
       "      <td>112.0</td>\n",
       "    </tr>\n",
       "    <tr>\n",
       "      <th>...</th>\n",
       "      <td>...</td>\n",
       "      <td>...</td>\n",
       "    </tr>\n",
       "    <tr>\n",
       "      <th>Roscetto</th>\n",
       "      <td>NaN</td>\n",
       "      <td>NaN</td>\n",
       "    </tr>\n",
       "    <tr>\n",
       "      <th>Sauvignon Blanc-Sauvignon Gris</th>\n",
       "      <td>NaN</td>\n",
       "      <td>NaN</td>\n",
       "    </tr>\n",
       "    <tr>\n",
       "      <th>Tempranillo-Malbec</th>\n",
       "      <td>NaN</td>\n",
       "      <td>NaN</td>\n",
       "    </tr>\n",
       "    <tr>\n",
       "      <th>Vital</th>\n",
       "      <td>NaN</td>\n",
       "      <td>NaN</td>\n",
       "    </tr>\n",
       "    <tr>\n",
       "      <th>Zelen</th>\n",
       "      <td>NaN</td>\n",
       "      <td>NaN</td>\n",
       "    </tr>\n",
       "  </tbody>\n",
       "</table>\n",
       "<p>707 rows × 2 columns</p>\n",
       "</div>"
      ],
      "text/plain": [
       "                                  min    max\n",
       "variety                                     \n",
       "Ramisco                         495.0  495.0\n",
       "Terrantez                       236.0  236.0\n",
       "Francisa                        160.0  160.0\n",
       "Rosenmuskateller                150.0  150.0\n",
       "Tinta Negra Mole                112.0  112.0\n",
       "...                               ...    ...\n",
       "Roscetto                          NaN    NaN\n",
       "Sauvignon Blanc-Sauvignon Gris    NaN    NaN\n",
       "Tempranillo-Malbec                NaN    NaN\n",
       "Vital                             NaN    NaN\n",
       "Zelen                             NaN    NaN\n",
       "\n",
       "[707 rows x 2 columns]"
      ]
     },
     "execution_count": 8,
     "metadata": {},
     "output_type": "execute_result"
    }
   ],
   "source": [
    "sorted_varieties = price_extremes.sort_values(by=['min', 'max'], ascending=False)\n",
    "# Check your answer\n",
    "q4.check()\n",
    "sorted_varieties"
   ]
  },
  {
   "cell_type": "code",
   "execution_count": 9,
   "id": "f1043235",
   "metadata": {
    "execution": {
     "iopub.execute_input": "2022-05-01T15:59:19.893642Z",
     "iopub.status.busy": "2022-05-01T15:59:19.893372Z",
     "iopub.status.idle": "2022-05-01T15:59:19.896924Z",
     "shell.execute_reply": "2022-05-01T15:59:19.895974Z"
    },
    "papermill": {
     "duration": 0.035336,
     "end_time": "2022-05-01T15:59:19.898758",
     "exception": false,
     "start_time": "2022-05-01T15:59:19.863422",
     "status": "completed"
    },
    "tags": []
   },
   "outputs": [],
   "source": [
    "#q4.hint()\n",
    "#q4.solution()"
   ]
  },
  {
   "cell_type": "markdown",
   "id": "07cd3241",
   "metadata": {
    "papermill": {
     "duration": 0.028691,
     "end_time": "2022-05-01T15:59:19.956114",
     "exception": false,
     "start_time": "2022-05-01T15:59:19.927423",
     "status": "completed"
    },
    "tags": []
   },
   "source": [
    "## 5.\n",
    "Create a `Series` whose index is reviewers and whose values is the average review score given out by that reviewer. Hint: you will need the `taster_name` and `points` columns."
   ]
  },
  {
   "cell_type": "code",
   "execution_count": 10,
   "id": "520b34b1",
   "metadata": {
    "execution": {
     "iopub.execute_input": "2022-05-01T15:59:20.015191Z",
     "iopub.status.busy": "2022-05-01T15:59:20.014869Z",
     "iopub.status.idle": "2022-05-01T15:59:20.040958Z",
     "shell.execute_reply": "2022-05-01T15:59:20.040139Z"
    },
    "papermill": {
     "duration": 0.058035,
     "end_time": "2022-05-01T15:59:20.043008",
     "exception": false,
     "start_time": "2022-05-01T15:59:19.984973",
     "status": "completed"
    },
    "tags": []
   },
   "outputs": [
    {
     "data": {
      "application/javascript": [
       "parent.postMessage({\"jupyterEvent\": \"custom.exercise_interaction\", \"data\": {\"outcomeType\": 1, \"valueTowardsCompletion\": 0.16666666666666666, \"interactionType\": 1, \"questionType\": 1, \"questionId\": \"5_ReviewerMeanRatings\", \"learnToolsVersion\": \"0.3.4\", \"failureMessage\": \"\", \"exceptionClass\": \"\", \"trace\": \"\"}}, \"*\")"
      ],
      "text/plain": [
       "<IPython.core.display.Javascript object>"
      ]
     },
     "metadata": {},
     "output_type": "display_data"
    },
    {
     "data": {
      "text/markdown": [
       "<span style=\"color:#33cc33\">Correct</span>"
      ],
      "text/plain": [
       "Correct"
      ]
     },
     "metadata": {},
     "output_type": "display_data"
    }
   ],
   "source": [
    "reviewer_mean_ratings = reviews.groupby('taster_name').points.mean()\n",
    "\n",
    "# Check your answer\n",
    "q5.check()"
   ]
  },
  {
   "cell_type": "code",
   "execution_count": 11,
   "id": "3b11bd18",
   "metadata": {
    "execution": {
     "iopub.execute_input": "2022-05-01T15:59:20.103674Z",
     "iopub.status.busy": "2022-05-01T15:59:20.103367Z",
     "iopub.status.idle": "2022-05-01T15:59:20.106492Z",
     "shell.execute_reply": "2022-05-01T15:59:20.105911Z"
    },
    "papermill": {
     "duration": 0.035908,
     "end_time": "2022-05-01T15:59:20.108553",
     "exception": false,
     "start_time": "2022-05-01T15:59:20.072645",
     "status": "completed"
    },
    "tags": []
   },
   "outputs": [],
   "source": [
    "#q5.hint()\n",
    "#q5.solution()"
   ]
  },
  {
   "cell_type": "markdown",
   "id": "e1dd3936",
   "metadata": {
    "papermill": {
     "duration": 0.029482,
     "end_time": "2022-05-01T15:59:20.167820",
     "exception": false,
     "start_time": "2022-05-01T15:59:20.138338",
     "status": "completed"
    },
    "tags": []
   },
   "source": [
    "Are there significant differences in the average scores assigned by the various reviewers? Run the cell below to use the `describe()` method to see a summary of the range of values."
   ]
  },
  {
   "cell_type": "code",
   "execution_count": 12,
   "id": "66b246ee",
   "metadata": {
    "execution": {
     "iopub.execute_input": "2022-05-01T15:59:20.228975Z",
     "iopub.status.busy": "2022-05-01T15:59:20.228493Z",
     "iopub.status.idle": "2022-05-01T15:59:20.238681Z",
     "shell.execute_reply": "2022-05-01T15:59:20.238104Z"
    },
    "papermill": {
     "duration": 0.043148,
     "end_time": "2022-05-01T15:59:20.240539",
     "exception": false,
     "start_time": "2022-05-01T15:59:20.197391",
     "status": "completed"
    },
    "tags": []
   },
   "outputs": [
    {
     "data": {
      "text/plain": [
       "count    19.000000\n",
       "mean     88.233026\n",
       "std       1.243610\n",
       "min      85.855422\n",
       "25%      87.323501\n",
       "50%      88.536235\n",
       "75%      88.975256\n",
       "max      90.562551\n",
       "Name: points, dtype: float64"
      ]
     },
     "execution_count": 12,
     "metadata": {},
     "output_type": "execute_result"
    }
   ],
   "source": [
    "reviewer_mean_ratings.describe()"
   ]
  },
  {
   "cell_type": "markdown",
   "id": "dbe556b1",
   "metadata": {
    "papermill": {
     "duration": 0.031073,
     "end_time": "2022-05-01T15:59:20.301767",
     "exception": false,
     "start_time": "2022-05-01T15:59:20.270694",
     "status": "completed"
    },
    "tags": []
   },
   "source": [
    "## 6.\n",
    "What combination of countries and varieties are most common? Create a `Series` whose index is a `MultiIndex`of `{country, variety}` pairs. For example, a pinot noir produced in the US should map to `{\"US\", \"Pinot Noir\"}`. Sort the values in the `Series` in descending order based on wine count."
   ]
  },
  {
   "cell_type": "code",
   "execution_count": 13,
   "id": "974a34c5",
   "metadata": {
    "execution": {
     "iopub.execute_input": "2022-05-01T15:59:20.364113Z",
     "iopub.status.busy": "2022-05-01T15:59:20.363666Z",
     "iopub.status.idle": "2022-05-01T15:59:20.416434Z",
     "shell.execute_reply": "2022-05-01T15:59:20.415530Z"
    },
    "papermill": {
     "duration": 0.086346,
     "end_time": "2022-05-01T15:59:20.418574",
     "exception": false,
     "start_time": "2022-05-01T15:59:20.332228",
     "status": "completed"
    },
    "tags": []
   },
   "outputs": [
    {
     "data": {
      "application/javascript": [
       "parent.postMessage({\"jupyterEvent\": \"custom.exercise_interaction\", \"data\": {\"outcomeType\": 1, \"valueTowardsCompletion\": 0.16666666666666666, \"interactionType\": 1, \"questionType\": 1, \"questionId\": \"6_GroupbyCountryVariety\", \"learnToolsVersion\": \"0.3.4\", \"failureMessage\": \"\", \"exceptionClass\": \"\", \"trace\": \"\"}}, \"*\")"
      ],
      "text/plain": [
       "<IPython.core.display.Javascript object>"
      ]
     },
     "metadata": {},
     "output_type": "display_data"
    },
    {
     "data": {
      "text/markdown": [
       "<span style=\"color:#33cc33\">Correct</span>"
      ],
      "text/plain": [
       "Correct"
      ]
     },
     "metadata": {},
     "output_type": "display_data"
    },
    {
     "data": {
      "text/plain": [
       "country  variety                 \n",
       "US       Pinot Noir                  9885\n",
       "         Cabernet Sauvignon          7315\n",
       "         Chardonnay                  6801\n",
       "France   Bordeaux-style Red Blend    4725\n",
       "Italy    Red Blend                   3624\n",
       "                                     ... \n",
       "Mexico   Cinsault                       1\n",
       "         Grenache                       1\n",
       "         Merlot                         1\n",
       "         Rosado                         1\n",
       "Uruguay  White Blend                    1\n",
       "Length: 1612, dtype: int64"
      ]
     },
     "execution_count": 13,
     "metadata": {},
     "output_type": "execute_result"
    }
   ],
   "source": [
    "country_variety_counts = reviews.groupby(['country', 'variety']).size().sort_values(ascending=False)\n",
    "\n",
    "# Check your answer\n",
    "q6.check()\n",
    "country_variety_counts"
   ]
  },
  {
   "cell_type": "code",
   "execution_count": 14,
   "id": "6d53cceb",
   "metadata": {
    "execution": {
     "iopub.execute_input": "2022-05-01T15:59:20.486808Z",
     "iopub.status.busy": "2022-05-01T15:59:20.486496Z",
     "iopub.status.idle": "2022-05-01T15:59:20.489917Z",
     "shell.execute_reply": "2022-05-01T15:59:20.489260Z"
    },
    "papermill": {
     "duration": 0.040205,
     "end_time": "2022-05-01T15:59:20.491735",
     "exception": false,
     "start_time": "2022-05-01T15:59:20.451530",
     "status": "completed"
    },
    "tags": []
   },
   "outputs": [],
   "source": [
    "#q6.hint()\n",
    "#q6.solution()"
   ]
  },
  {
   "cell_type": "markdown",
   "id": "7a9bb69e",
   "metadata": {
    "papermill": {
     "duration": 0.032038,
     "end_time": "2022-05-01T15:59:20.556514",
     "exception": false,
     "start_time": "2022-05-01T15:59:20.524476",
     "status": "completed"
    },
    "tags": []
   },
   "source": [
    "# Keep going\n",
    "\n",
    "Move on to the [**data types and missing data**](https://www.kaggle.com/residentmario/data-types-and-missing-values)."
   ]
  }
 ],
 "metadata": {
  "kernelspec": {
   "display_name": "Python 3",
   "language": "python",
   "name": "python3"
  },
  "language_info": {
   "codemirror_mode": {
    "name": "ipython",
    "version": 3
   },
   "file_extension": ".py",
   "mimetype": "text/x-python",
   "name": "python",
   "nbconvert_exporter": "python",
   "pygments_lexer": "ipython3",
   "version": "3.7.12"
  },
  "papermill": {
   "default_parameters": {},
   "duration": 15.461305,
   "end_time": "2022-05-01T15:59:21.309152",
   "environment_variables": {},
   "exception": null,
   "input_path": "__notebook__.ipynb",
   "output_path": "__notebook__.ipynb",
   "parameters": {},
   "start_time": "2022-05-01T15:59:05.847847",
   "version": "2.3.4"
  }
 },
 "nbformat": 4,
 "nbformat_minor": 5
}
